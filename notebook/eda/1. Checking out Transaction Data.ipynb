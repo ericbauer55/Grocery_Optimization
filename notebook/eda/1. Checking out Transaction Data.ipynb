{
 "cells": [
  {
   "cell_type": "markdown",
   "metadata": {},
   "source": [
    "# Exploratory Data Analysis -- Mint.com Food Transactions\n",
    "---------------------------------\n",
    "By: Eric Bauer\n",
    "\n",
    "### Goal: Identify any time-series trends in Food spending, especially for Groceries vs. Eating Out"
   ]
  },
  {
   "cell_type": "markdown",
   "metadata": {},
   "source": [
    "# 1. Load the Transaction Data"
   ]
  },
  {
   "cell_type": "code",
   "execution_count": 1,
   "metadata": {},
   "outputs": [],
   "source": [
    "import pandas as pd\n",
    "import os\n",
    "\n",
    "data_paths = {'in':'../../data/raw',\n",
    "              'out':'../../data/processed',\n",
    "             }"
   ]
  },
  {
   "cell_type": "code",
   "execution_count": 2,
   "metadata": {},
   "outputs": [],
   "source": [
    "# select which data set to explore\n",
    "data_select = {'eric': 'transactions_eric.csv',\n",
    "               'amanda': 'transactions_amanda.csv'\n",
    "              }\n",
    "select = 'eric'"
   ]
  },
  {
   "cell_type": "code",
   "execution_count": 3,
   "metadata": {},
   "outputs": [
    {
     "data": {
      "text/html": [
       "<div>\n",
       "<style scoped>\n",
       "    .dataframe tbody tr th:only-of-type {\n",
       "        vertical-align: middle;\n",
       "    }\n",
       "\n",
       "    .dataframe tbody tr th {\n",
       "        vertical-align: top;\n",
       "    }\n",
       "\n",
       "    .dataframe thead th {\n",
       "        text-align: right;\n",
       "    }\n",
       "</style>\n",
       "<table border=\"1\" class=\"dataframe\">\n",
       "  <thead>\n",
       "    <tr style=\"text-align: right;\">\n",
       "      <th></th>\n",
       "      <th>Date</th>\n",
       "      <th>Description</th>\n",
       "      <th>Original Description</th>\n",
       "      <th>Amount</th>\n",
       "      <th>Transaction Type</th>\n",
       "      <th>Category</th>\n",
       "      <th>Account Name</th>\n",
       "      <th>Labels</th>\n",
       "      <th>Notes</th>\n",
       "    </tr>\n",
       "  </thead>\n",
       "  <tbody>\n",
       "    <tr>\n",
       "      <th>10</th>\n",
       "      <td>4/14/2020</td>\n",
       "      <td>payment Citi Autopay</td>\n",
       "      <td>Web Authorized Pmt Citi Autopay</td>\n",
       "      <td>25.00</td>\n",
       "      <td>debit</td>\n",
       "      <td>Credit Card Payment</td>\n",
       "      <td>Checking</td>\n",
       "      <td>NaN</td>\n",
       "      <td>NaN</td>\n",
       "    </tr>\n",
       "    <tr>\n",
       "      <th>11</th>\n",
       "      <td>4/14/2020</td>\n",
       "      <td>Wal-Mart</td>\n",
       "      <td>WALMART.COM 800-966-6546 AR</td>\n",
       "      <td>31.82</td>\n",
       "      <td>debit</td>\n",
       "      <td>Pet Food &amp; Supplies</td>\n",
       "      <td>Citi Premier℠ Card</td>\n",
       "      <td>NaN</td>\n",
       "      <td>NaN</td>\n",
       "    </tr>\n",
       "    <tr>\n",
       "      <th>12</th>\n",
       "      <td>4/14/2020</td>\n",
       "      <td>Amazon Fresh</td>\n",
       "      <td>AMAZON FRESH*8J00J0773 AMZN.COM/BILL WA</td>\n",
       "      <td>45.19</td>\n",
       "      <td>debit</td>\n",
       "      <td>Groceries</td>\n",
       "      <td>Citi Premier℠ Card</td>\n",
       "      <td>NaN</td>\n",
       "      <td>NaN</td>\n",
       "    </tr>\n",
       "    <tr>\n",
       "      <th>13</th>\n",
       "      <td>4/13/2020</td>\n",
       "      <td>Autopay Rautopay Auto</td>\n",
       "      <td>AUTOPAY 190718060634561RAUTOPAY AUTO-PMT</td>\n",
       "      <td>25.00</td>\n",
       "      <td>credit</td>\n",
       "      <td>Income</td>\n",
       "      <td>Citi Premier℠ Card</td>\n",
       "      <td>NaN</td>\n",
       "      <td>NaN</td>\n",
       "    </tr>\n",
       "    <tr>\n",
       "      <th>14</th>\n",
       "      <td>4/13/2020</td>\n",
       "      <td>payment Citi Card Online</td>\n",
       "      <td>Web Authorized Pmt Citi Card Online</td>\n",
       "      <td>2842.47</td>\n",
       "      <td>debit</td>\n",
       "      <td>Credit Card Payment</td>\n",
       "      <td>Checking</td>\n",
       "      <td>NaN</td>\n",
       "      <td>NaN</td>\n",
       "    </tr>\n",
       "    <tr>\n",
       "      <th>15</th>\n",
       "      <td>4/12/2020</td>\n",
       "      <td>Oakland Nursery, Inc.</td>\n",
       "      <td>OAKLAND NURSERY DUBLIN OH</td>\n",
       "      <td>66.49</td>\n",
       "      <td>debit</td>\n",
       "      <td>Lawn &amp; Garden</td>\n",
       "      <td>Citi Premier℠ Card</td>\n",
       "      <td>NaN</td>\n",
       "      <td>NaN</td>\n",
       "    </tr>\n",
       "  </tbody>\n",
       "</table>\n",
       "</div>"
      ],
      "text/plain": [
       "         Date               Description  \\\n",
       "10  4/14/2020      payment Citi Autopay   \n",
       "11  4/14/2020                  Wal-Mart   \n",
       "12  4/14/2020              Amazon Fresh   \n",
       "13  4/13/2020     Autopay Rautopay Auto   \n",
       "14  4/13/2020  payment Citi Card Online   \n",
       "15  4/12/2020     Oakland Nursery, Inc.   \n",
       "\n",
       "                        Original Description   Amount Transaction Type  \\\n",
       "10           Web Authorized Pmt Citi Autopay    25.00            debit   \n",
       "11               WALMART.COM 800-966-6546 AR    31.82            debit   \n",
       "12   AMAZON FRESH*8J00J0773 AMZN.COM/BILL WA    45.19            debit   \n",
       "13  AUTOPAY 190718060634561RAUTOPAY AUTO-PMT    25.00           credit   \n",
       "14       Web Authorized Pmt Citi Card Online  2842.47            debit   \n",
       "15                 OAKLAND NURSERY DUBLIN OH    66.49            debit   \n",
       "\n",
       "               Category        Account Name Labels Notes  \n",
       "10  Credit Card Payment            Checking    NaN   NaN  \n",
       "11  Pet Food & Supplies  Citi Premier℠ Card    NaN   NaN  \n",
       "12            Groceries  Citi Premier℠ Card    NaN   NaN  \n",
       "13               Income  Citi Premier℠ Card    NaN   NaN  \n",
       "14  Credit Card Payment            Checking    NaN   NaN  \n",
       "15        Lawn & Garden  Citi Premier℠ Card    NaN   NaN  "
      ]
     },
     "execution_count": 3,
     "metadata": {},
     "output_type": "execute_result"
    }
   ],
   "source": [
    "df = pd.read_csv(os.path.join(data_paths['in'], data_select[select]))\n",
    "df.iloc[10:16] # note: index window chosen to prevent income related info from displaying"
   ]
  },
  {
   "cell_type": "markdown",
   "metadata": {},
   "source": [
    "**Note**: We can already see that the Income Category has the same sign as other expenses. We'll change this later"
   ]
  },
  {
   "cell_type": "code",
   "execution_count": 4,
   "metadata": {},
   "outputs": [
    {
     "name": "stdout",
     "output_type": "stream",
     "text": [
      "<class 'pandas.core.frame.DataFrame'>\n",
      "RangeIndex: 6312 entries, 0 to 6311\n",
      "Data columns (total 9 columns):\n",
      " #   Column                Non-Null Count  Dtype  \n",
      "---  ------                --------------  -----  \n",
      " 0   Date                  6312 non-null   object \n",
      " 1   Description           6312 non-null   object \n",
      " 2   Original Description  6312 non-null   object \n",
      " 3   Amount                6312 non-null   float64\n",
      " 4   Transaction Type      6312 non-null   object \n",
      " 5   Category              6312 non-null   object \n",
      " 6   Account Name          6312 non-null   object \n",
      " 7   Labels                5 non-null      object \n",
      " 8   Notes                 1 non-null      object \n",
      "dtypes: float64(1), object(8)\n",
      "memory usage: 246.6+ KB\n"
     ]
    }
   ],
   "source": [
    "# print the data schema as read in by pandas\n",
    "df.info()"
   ]
  },
  {
   "cell_type": "code",
   "execution_count": 5,
   "metadata": {},
   "outputs": [
    {
     "name": "stdout",
     "output_type": "stream",
     "text": [
      "<class 'pandas.core.frame.DataFrame'>\n",
      "RangeIndex: 6312 entries, 0 to 6311\n",
      "Data columns (total 9 columns):\n",
      " #   Column                Non-Null Count  Dtype  \n",
      "---  ------                --------------  -----  \n",
      " 0   date                  6312 non-null   object \n",
      " 1   description           6312 non-null   object \n",
      " 2   original_description  6312 non-null   object \n",
      " 3   amount                6312 non-null   float64\n",
      " 4   transaction_type      6312 non-null   object \n",
      " 5   category              6312 non-null   object \n",
      " 6   account_name          6312 non-null   object \n",
      " 7   labels                5 non-null      object \n",
      " 8   notes                 1 non-null      object \n",
      "dtypes: float64(1), object(8)\n",
      "memory usage: 246.6+ KB\n"
     ]
    }
   ],
   "source": [
    "# change the column names to lower case and underscores for ease of use\n",
    "col_parser = lambda x: '_'.join(x.lower().split(' '))\n",
    "df.rename(col_parser, axis='columns', inplace=True)\n",
    "df.info()"
   ]
  },
  {
   "cell_type": "code",
   "execution_count": 6,
   "metadata": {},
   "outputs": [],
   "source": [
    "# grab only the columns of interest\n",
    "columns_to_keep = ['date','description','amount','category'] \n",
    "df = df.loc[:, columns_to_keep]  # or just: df = df[columns_to_keep]"
   ]
  },
  {
   "cell_type": "code",
   "execution_count": 7,
   "metadata": {},
   "outputs": [
    {
     "data": {
      "text/html": [
       "<div>\n",
       "<style scoped>\n",
       "    .dataframe tbody tr th:only-of-type {\n",
       "        vertical-align: middle;\n",
       "    }\n",
       "\n",
       "    .dataframe tbody tr th {\n",
       "        vertical-align: top;\n",
       "    }\n",
       "\n",
       "    .dataframe thead th {\n",
       "        text-align: right;\n",
       "    }\n",
       "</style>\n",
       "<table border=\"1\" class=\"dataframe\">\n",
       "  <thead>\n",
       "    <tr style=\"text-align: right;\">\n",
       "      <th></th>\n",
       "      <th>description</th>\n",
       "      <th>amount</th>\n",
       "      <th>category</th>\n",
       "    </tr>\n",
       "    <tr>\n",
       "      <th>date</th>\n",
       "      <th></th>\n",
       "      <th></th>\n",
       "      <th></th>\n",
       "    </tr>\n",
       "  </thead>\n",
       "  <tbody>\n",
       "    <tr>\n",
       "      <th>2020-04-14</th>\n",
       "      <td>payment Citi Autopay</td>\n",
       "      <td>25.00</td>\n",
       "      <td>Credit Card Payment</td>\n",
       "    </tr>\n",
       "    <tr>\n",
       "      <th>2020-04-14</th>\n",
       "      <td>Wal-Mart</td>\n",
       "      <td>31.82</td>\n",
       "      <td>Pet Food &amp; Supplies</td>\n",
       "    </tr>\n",
       "    <tr>\n",
       "      <th>2020-04-14</th>\n",
       "      <td>Amazon Fresh</td>\n",
       "      <td>45.19</td>\n",
       "      <td>Groceries</td>\n",
       "    </tr>\n",
       "    <tr>\n",
       "      <th>2020-04-13</th>\n",
       "      <td>Autopay Rautopay Auto</td>\n",
       "      <td>25.00</td>\n",
       "      <td>Income</td>\n",
       "    </tr>\n",
       "    <tr>\n",
       "      <th>2020-04-13</th>\n",
       "      <td>payment Citi Card Online</td>\n",
       "      <td>2842.47</td>\n",
       "      <td>Credit Card Payment</td>\n",
       "    </tr>\n",
       "    <tr>\n",
       "      <th>2020-04-12</th>\n",
       "      <td>Oakland Nursery, Inc.</td>\n",
       "      <td>66.49</td>\n",
       "      <td>Lawn &amp; Garden</td>\n",
       "    </tr>\n",
       "  </tbody>\n",
       "</table>\n",
       "</div>"
      ],
      "text/plain": [
       "                         description   amount             category\n",
       "date                                                              \n",
       "2020-04-14      payment Citi Autopay    25.00  Credit Card Payment\n",
       "2020-04-14                  Wal-Mart    31.82  Pet Food & Supplies\n",
       "2020-04-14              Amazon Fresh    45.19            Groceries\n",
       "2020-04-13     Autopay Rautopay Auto    25.00               Income\n",
       "2020-04-13  payment Citi Card Online  2842.47  Credit Card Payment\n",
       "2020-04-12     Oakland Nursery, Inc.    66.49        Lawn & Garden"
      ]
     },
     "execution_count": 7,
     "metadata": {},
     "output_type": "execute_result"
    }
   ],
   "source": [
    "# convert 'date' column to datetime object\n",
    "df['date'] = pd.to_datetime(df['date'])\n",
    "# set 'date' as index\n",
    "df.set_index('date', inplace=True)\n",
    "df.loc['4/12/2020':'4/14/2020'] # note: index window chosen to prevent income related info from displaying"
   ]
  },
  {
   "cell_type": "code",
   "execution_count": 8,
   "metadata": {},
   "outputs": [
    {
     "name": "stdout",
     "output_type": "stream",
     "text": [
      "There are 104 unique categories\n"
     ]
    },
    {
     "data": {
      "text/plain": [
       "0             Shopping\n",
       "1               Income\n",
       "2      Mortgage & Rent\n",
       "3            Groceries\n",
       "4    Business Services\n",
       "dtype: category\n",
       "Categories (104, object): [Shopping, Income, Mortgage & Rent, Groceries, ..., Uncategorized, Student Loan, Laundry, Cryptocurrency]"
      ]
     },
     "execution_count": 8,
     "metadata": {},
     "output_type": "execute_result"
    }
   ],
   "source": [
    "# convert 'category' column into category object (duh)\n",
    "df['category'] = df['category'].astype('category')\n",
    "\n",
    "# describe the categories\n",
    "cats = df['category'].unique()\n",
    "print(f'There are {len(cats)} unique categories')\n",
    "pd.Series(cats).head(5)"
   ]
  },
  {
   "cell_type": "code",
   "execution_count": 9,
   "metadata": {},
   "outputs": [
    {
     "data": {
      "text/plain": [
       "Groceries        647\n",
       "Fast Food        633\n",
       "Shopping         602\n",
       "Restaurants      538\n",
       "Transfer         445\n",
       "Work Food        418\n",
       "Uncategorized    359\n",
       "Income           277\n",
       "Gas & Fuel       220\n",
       "Books            184\n",
       "Name: category, dtype: int64"
      ]
     },
     "execution_count": 9,
     "metadata": {},
     "output_type": "execute_result"
    }
   ],
   "source": [
    "df['category'].value_counts().head(10) "
   ]
  },
  {
   "cell_type": "code",
   "execution_count": 10,
   "metadata": {},
   "outputs": [],
   "source": [
    "# Check transactions that might be negative expenses (aka. Income).....Cross-ref with Mint.com\n",
    "income_cats = ['Reimbursement','Bonus','Interest Income','Income'] # note State Tax and Federal Tax are a mixed sign category\n",
    "filt = (df['category'].isin(income_cats))\n",
    "df.loc[filt, 'amount'] = df.loc[filt, 'amount'].apply(lambda x: x*(-1))\n",
    "# note: transformation not displayed to prevent income related info from displaying"
   ]
  },
  {
   "cell_type": "markdown",
   "metadata": {},
   "source": [
    "# 2. Aggregate Transaction Data"
   ]
  },
  {
   "cell_type": "markdown",
   "metadata": {},
   "source": [
    "## 2a. Find the Total Top 10 Spending Categories"
   ]
  },
  {
   "cell_type": "code",
   "execution_count": 11,
   "metadata": {},
   "outputs": [],
   "source": [
    "total_top10 = df.groupby('category', as_index=False).sum()"
   ]
  },
  {
   "cell_type": "code",
   "execution_count": 12,
   "metadata": {},
   "outputs": [
    {
     "data": {
      "text/html": [
       "<div>\n",
       "<style scoped>\n",
       "    .dataframe tbody tr th:only-of-type {\n",
       "        vertical-align: middle;\n",
       "    }\n",
       "\n",
       "    .dataframe tbody tr th {\n",
       "        vertical-align: top;\n",
       "    }\n",
       "\n",
       "    .dataframe thead th {\n",
       "        text-align: right;\n",
       "    }\n",
       "</style>\n",
       "<table border=\"1\" class=\"dataframe\">\n",
       "  <thead>\n",
       "    <tr style=\"text-align: right;\">\n",
       "      <th></th>\n",
       "      <th>category</th>\n",
       "      <th>amount</th>\n",
       "    </tr>\n",
       "  </thead>\n",
       "  <tbody>\n",
       "    <tr>\n",
       "      <th>0</th>\n",
       "      <td>Credit Card Payment</td>\n",
       "      <td>142966.23</td>\n",
       "    </tr>\n",
       "    <tr>\n",
       "      <th>1</th>\n",
       "      <td>Transfer</td>\n",
       "      <td>98566.97</td>\n",
       "    </tr>\n",
       "    <tr>\n",
       "      <th>2</th>\n",
       "      <td>Mortgage &amp; Rent</td>\n",
       "      <td>29873.95</td>\n",
       "    </tr>\n",
       "    <tr>\n",
       "      <th>3</th>\n",
       "      <td>Shopping</td>\n",
       "      <td>24274.75</td>\n",
       "    </tr>\n",
       "    <tr>\n",
       "      <th>4</th>\n",
       "      <td>Check</td>\n",
       "      <td>21539.53</td>\n",
       "    </tr>\n",
       "    <tr>\n",
       "      <th>5</th>\n",
       "      <td>Groceries</td>\n",
       "      <td>20583.42</td>\n",
       "    </tr>\n",
       "    <tr>\n",
       "      <th>6</th>\n",
       "      <td>Restaurants</td>\n",
       "      <td>11575.76</td>\n",
       "    </tr>\n",
       "    <tr>\n",
       "      <th>7</th>\n",
       "      <td>Wedding</td>\n",
       "      <td>9261.70</td>\n",
       "    </tr>\n",
       "    <tr>\n",
       "      <th>8</th>\n",
       "      <td>Auto &amp; Transport</td>\n",
       "      <td>8997.91</td>\n",
       "    </tr>\n",
       "    <tr>\n",
       "      <th>9</th>\n",
       "      <td>Uncategorized</td>\n",
       "      <td>7809.87</td>\n",
       "    </tr>\n",
       "  </tbody>\n",
       "</table>\n",
       "</div>"
      ],
      "text/plain": [
       "              category     amount\n",
       "0  Credit Card Payment  142966.23\n",
       "1             Transfer   98566.97\n",
       "2      Mortgage & Rent   29873.95\n",
       "3             Shopping   24274.75\n",
       "4                Check   21539.53\n",
       "5            Groceries   20583.42\n",
       "6          Restaurants   11575.76\n",
       "7              Wedding    9261.70\n",
       "8     Auto & Transport    8997.91\n",
       "9        Uncategorized    7809.87"
      ]
     },
     "execution_count": 12,
     "metadata": {},
     "output_type": "execute_result"
    }
   ],
   "source": [
    "total_top10 = df.groupby('category', as_index=False).sum().nlargest(10, 'amount')\n",
    "total_top10.reset_index(drop=True)"
   ]
  },
  {
   "cell_type": "markdown",
   "metadata": {},
   "source": [
    "## 2b. Find Top 10 Categories for Past 5 Years"
   ]
  },
  {
   "cell_type": "code",
   "execution_count": 13,
   "metadata": {},
   "outputs": [],
   "source": [
    "years = list(range(2016, 2021))\n",
    "years = [str(x) for x in years]"
   ]
  },
  {
   "cell_type": "code",
   "execution_count": 14,
   "metadata": {},
   "outputs": [],
   "source": [
    "top10 = []\n",
    "for year in years:\n",
    "    top = df.loc[year, :].groupby('category').sum().nlargest(10, 'amount').reset_index()\n",
    "    top10.append(top)"
   ]
  },
  {
   "cell_type": "code",
   "execution_count": 15,
   "metadata": {},
   "outputs": [
    {
     "name": "stdout",
     "output_type": "stream",
     "text": [
      "For the year 2016, the top 10 expenses were:\n",
      "          category   amount\n",
      "0         Transfer  9411.39\n",
      "1            Check  8531.34\n",
      "2         Shopping  8071.06\n",
      "3        Groceries  3318.80\n",
      "4         Clothing  3094.52\n",
      "5    Uncategorized  2927.49\n",
      "6        Fast Food  2441.25\n",
      "7     Student Loan  2441.04\n",
      "8      Restaurants  1391.11\n",
      "9  Service & Parts  1306.10\n",
      "\n",
      "For the year 2017, the top 10 expenses were:\n",
      "              category    amount\n",
      "0  Credit Card Payment  14858.66\n",
      "1             Transfer   7161.00\n",
      "2          Credit Card   6204.41\n",
      "3     Hiking & Camping   3838.40\n",
      "4              Hobbies   3361.80\n",
      "5   Conference Expense   2685.36\n",
      "6            Groceries   2005.41\n",
      "7             Shopping   1535.62\n",
      "8          Restaurants   1496.33\n",
      "9            Fast Food    867.23\n",
      "\n",
      "For the year 2018, the top 10 expenses were:\n",
      "              category    amount\n",
      "0  Credit Card Payment  47145.79\n",
      "1             Transfer  13260.83\n",
      "2      Mortgage & Rent   8434.43\n",
      "3             Shopping   5614.48\n",
      "4            Groceries   3835.27\n",
      "5                Check   2801.29\n",
      "6           Air Travel   2149.40\n",
      "7          Restaurants   1885.84\n",
      "8            Fast Food   1071.59\n",
      "9          Federal Tax   1067.00\n",
      "\n",
      "For the year 2019, the top 10 expenses were:\n",
      "              category    amount\n",
      "0  Credit Card Payment  63774.88\n",
      "1             Transfer  24821.10\n",
      "2      Mortgage & Rent  14975.50\n",
      "3              Wedding   9261.70\n",
      "4     Auto & Transport   8970.21\n",
      "5             Shopping   5029.53\n",
      "6            Groceries   4393.84\n",
      "7       Sporting Goods   2446.44\n",
      "8          Restaurants   2394.84\n",
      "9           Gas & Fuel   2278.25\n",
      "\n",
      "For the year 2020, the top 10 expenses were:\n",
      "              category    amount\n",
      "0  Credit Card Payment  17156.90\n",
      "1             Transfer   6765.00\n",
      "2      Mortgage & Rent   6442.87\n",
      "3          Federal Tax   2279.40\n",
      "4            Groceries   1501.74\n",
      "5          Investments    741.12\n",
      "6           Gas & Fuel    516.88\n",
      "7      Service & Parts    488.53\n",
      "8         Mobile Phone    479.50\n",
      "9       Sporting Goods    447.17\n",
      "\n"
     ]
    }
   ],
   "source": [
    "for i, year in enumerate(years):\n",
    "    print(f'For the year {year}, the top 10 expenses were:')\n",
    "    print(top10[i])\n",
    "    print()"
   ]
  },
  {
   "cell_type": "markdown",
   "metadata": {},
   "source": [
    "It appears that groceries appears in the top 10 for all of the last 5 years. This makes sense considering it is #6 in the total list"
   ]
  },
  {
   "cell_type": "markdown",
   "metadata": {},
   "source": [
    "## 2c. Track Food Spending"
   ]
  },
  {
   "cell_type": "code",
   "execution_count": 16,
   "metadata": {},
   "outputs": [],
   "source": [
    "# create a data frame where only food transactions are present\n",
    "food_categories = ['Groceries','Work Food','Fast Food','Restaurants']\n",
    "filt = df['category'].isin(food_categories)\n",
    "food_df = df.loc[filt,:].copy()  # explicitly tell pandas to copy data frame so we avoid SettingWithCopyWarning\n",
    "# see https://www.dataquest.io/blog/settingwithcopywarning/ for more"
   ]
  },
  {
   "cell_type": "code",
   "execution_count": 17,
   "metadata": {},
   "outputs": [],
   "source": [
    "# get rid of the unused categories so they don't show up later in aggregation\n",
    "food_df['category'].cat.remove_unused_categories(inplace=True)"
   ]
  },
  {
   "cell_type": "code",
   "execution_count": 18,
   "metadata": {},
   "outputs": [],
   "source": [
    "# create a new time indexer\n",
    "food_df['year-month'] = food_df.index.to_series().dt.to_period('M')"
   ]
  },
  {
   "cell_type": "code",
   "execution_count": 19,
   "metadata": {},
   "outputs": [
    {
     "data": {
      "text/html": [
       "<div>\n",
       "<style scoped>\n",
       "    .dataframe tbody tr th:only-of-type {\n",
       "        vertical-align: middle;\n",
       "    }\n",
       "\n",
       "    .dataframe tbody tr th {\n",
       "        vertical-align: top;\n",
       "    }\n",
       "\n",
       "    .dataframe thead th {\n",
       "        text-align: right;\n",
       "    }\n",
       "</style>\n",
       "<table border=\"1\" class=\"dataframe\">\n",
       "  <thead>\n",
       "    <tr style=\"text-align: right;\">\n",
       "      <th></th>\n",
       "      <th>year-month</th>\n",
       "      <th>category</th>\n",
       "      <th>amount</th>\n",
       "    </tr>\n",
       "  </thead>\n",
       "  <tbody>\n",
       "    <tr>\n",
       "      <th>331</th>\n",
       "      <td>2020-02</td>\n",
       "      <td>Work Food</td>\n",
       "      <td>NaN</td>\n",
       "    </tr>\n",
       "    <tr>\n",
       "      <th>332</th>\n",
       "      <td>2020-03</td>\n",
       "      <td>Fast Food</td>\n",
       "      <td>20.67</td>\n",
       "    </tr>\n",
       "    <tr>\n",
       "      <th>333</th>\n",
       "      <td>2020-03</td>\n",
       "      <td>Groceries</td>\n",
       "      <td>710.92</td>\n",
       "    </tr>\n",
       "    <tr>\n",
       "      <th>334</th>\n",
       "      <td>2020-03</td>\n",
       "      <td>Restaurants</td>\n",
       "      <td>17.90</td>\n",
       "    </tr>\n",
       "    <tr>\n",
       "      <th>335</th>\n",
       "      <td>2020-03</td>\n",
       "      <td>Work Food</td>\n",
       "      <td>NaN</td>\n",
       "    </tr>\n",
       "    <tr>\n",
       "      <th>336</th>\n",
       "      <td>2020-04</td>\n",
       "      <td>Fast Food</td>\n",
       "      <td>NaN</td>\n",
       "    </tr>\n",
       "    <tr>\n",
       "      <th>337</th>\n",
       "      <td>2020-04</td>\n",
       "      <td>Groceries</td>\n",
       "      <td>157.65</td>\n",
       "    </tr>\n",
       "    <tr>\n",
       "      <th>338</th>\n",
       "      <td>2020-04</td>\n",
       "      <td>Restaurants</td>\n",
       "      <td>NaN</td>\n",
       "    </tr>\n",
       "    <tr>\n",
       "      <th>339</th>\n",
       "      <td>2020-04</td>\n",
       "      <td>Work Food</td>\n",
       "      <td>NaN</td>\n",
       "    </tr>\n",
       "  </tbody>\n",
       "</table>\n",
       "</div>"
      ],
      "text/plain": [
       "    year-month     category  amount\n",
       "331    2020-02    Work Food     NaN\n",
       "332    2020-03    Fast Food   20.67\n",
       "333    2020-03    Groceries  710.92\n",
       "334    2020-03  Restaurants   17.90\n",
       "335    2020-03    Work Food     NaN\n",
       "336    2020-04    Fast Food     NaN\n",
       "337    2020-04    Groceries  157.65\n",
       "338    2020-04  Restaurants     NaN\n",
       "339    2020-04    Work Food     NaN"
      ]
     },
     "execution_count": 19,
     "metadata": {},
     "output_type": "execute_result"
    }
   ],
   "source": [
    "food_spending = food_df.groupby(['year-month', 'category']).sum().reset_index(drop=False)\n",
    "food_spending.tail(9)"
   ]
  },
  {
   "cell_type": "markdown",
   "metadata": {},
   "source": [
    "Because Restaurants, Work Food and Fast Food categories are not all consistently attributed over the years.\n",
    "\n",
    "Hence, these need to be combined into a new composite category of **Eating Out** for comparison with Groceries"
   ]
  },
  {
   "cell_type": "code",
   "execution_count": 20,
   "metadata": {},
   "outputs": [],
   "source": [
    "# Add the new category\n",
    "food_spending['category'] = food_spending['category'].cat.add_categories('Eating Out')"
   ]
  },
  {
   "cell_type": "code",
   "execution_count": 21,
   "metadata": {},
   "outputs": [],
   "source": [
    "# replace all non-Grocery categories with 'Eating Out'\n",
    "eat_out_cat_list = ['Work Food','Fast Food','Restaurants']\n",
    "food_spending['category'] = food_spending['category'].replace({x:'Eating Out' for x in eat_out_cat_list}) \n",
    "# note: use replace on the series rather than map, since the latter will map Groceries to NaN"
   ]
  },
  {
   "cell_type": "code",
   "execution_count": 22,
   "metadata": {},
   "outputs": [],
   "source": [
    "# Aggregate Food spending by Year-Month and then by Category using the sum function\n",
    "food_spending = food_spending.groupby(['year-month','category']).sum().reset_index()\n",
    "# Convert 'year-month' from a Period type to a timestamp type\n",
    "food_spending['year-month'] = food_spending['year-month'].apply(lambda x: x.to_timestamp()) # convert to timestamp "
   ]
  },
  {
   "cell_type": "code",
   "execution_count": 23,
   "metadata": {},
   "outputs": [
    {
     "name": "stdout",
     "output_type": "stream",
     "text": [
      "<class 'pandas.core.frame.DataFrame'>\n",
      "RangeIndex: 170 entries, 0 to 169\n",
      "Data columns (total 3 columns):\n",
      " #   Column      Non-Null Count  Dtype         \n",
      "---  ------      --------------  -----         \n",
      " 0   year-month  170 non-null    datetime64[ns]\n",
      " 1   category    170 non-null    object        \n",
      " 2   amount      170 non-null    float64       \n",
      "dtypes: datetime64[ns](1), float64(1), object(1)\n",
      "memory usage: 3.4+ KB\n"
     ]
    }
   ],
   "source": [
    "food_spending.info()"
   ]
  },
  {
   "cell_type": "code",
   "execution_count": 24,
   "metadata": {},
   "outputs": [],
   "source": [
    "# create the series for plotting\n",
    "eating_out = food_spending[food_spending['category']=='Eating Out'].reset_index(drop=True)\n",
    "groceries = food_spending[food_spending['category']=='Groceries'].reset_index(drop=True)"
   ]
  },
  {
   "cell_type": "markdown",
   "metadata": {},
   "source": [
    "# 3. Plot Relevant Data"
   ]
  },
  {
   "cell_type": "code",
   "execution_count": 25,
   "metadata": {},
   "outputs": [],
   "source": [
    "# plot helper functions\n",
    "def newyear(date):\n",
    "    if date.month == 1: # If the month is January, it is a new year\n",
    "        return True\n",
    "    else:\n",
    "        return False\n",
    "    \n",
    "def dateaxis_labelmaker(date):\n",
    "    if newyear(date): # If the month is January, print out the Year and Month\n",
    "        label = f'{date.year} - {date.month_name()[0:3]}.'\n",
    "    else: # if not January, return just Month\n",
    "        label = f'{date.month_name()[0:3]}.'\n",
    "    return label\n",
    "\n"
   ]
  },
  {
   "cell_type": "code",
   "execution_count": 26,
   "metadata": {},
   "outputs": [],
   "source": [
    "# create a major tick list\n",
    "filt = eating_out['year-month'].apply(newyear)\n",
    "major_ticks_list = eating_out.loc[filt,'year-month'].reset_index(drop=True)"
   ]
  },
  {
   "cell_type": "code",
   "execution_count": 27,
   "metadata": {},
   "outputs": [],
   "source": [
    "%matplotlib inline"
   ]
  },
  {
   "cell_type": "code",
   "execution_count": 28,
   "metadata": {},
   "outputs": [
    {
     "data": {
      "image/png": "[encoded data removed]",
      "text/plain": [
       "<Figure size 1200x400 with 1 Axes>"
      ]
     },
     "metadata": {},
     "output_type": "display_data"
    }
   ],
   "source": [
    "import matplotlib.pyplot as plt\n",
    "fig=plt.figure(figsize=(15, 5), dpi= 80, facecolor='w', edgecolor='k')\n",
    "# add major ticks and x-labels\n",
    "for i in range(0,len(major_ticks_list)):\n",
    "    plt.axvline(x=major_ticks_list[i], ymin=0, ymax=1, c='gray')\n",
    "plt.xticks(eating_out['year-month'],eating_out['year-month'].apply(dateaxis_labelmaker), rotation=90)\n",
    "\n",
    "# plot the time-series data\n",
    "plt.plot(groceries['year-month'], groceries['amount'], c='c', label='Groceries')\n",
    "plt.plot(eating_out['year-month'], eating_out['amount'], c= 'm', label='Eating Out')\n",
    "\n",
    "# describe the graph\n",
    "plt.legend()\n",
    "plt.title('Food Expenses Over Time')\n",
    "plt.xlabel('Time (months)')\n",
    "plt.ylabel('Cost ($ / month)')\n",
    "plt.xlim([eating_out['year-month'].min(), eating_out['year-month'].max()])\n",
    "plt.grid()\n",
    "plt.show()"
   ]
  },
  {
   "cell_type": "markdown",
   "metadata": {},
   "source": [
    "### Obervation: \n",
    "The groceries and eating out seem to mostly be in-phase (or near 0 degree lag/lead). This is broken from Aug 2015 to Jan 2017, where the signals are almost 180 out of phase. This suggests an interesting relationship if the data is correct.\n",
    "\n",
    "To investigate the synchronicity some further time-series analysis can be done: https://towardsdatascience.com/four-ways-to-quantify-synchrony-between-time-series-data-b99136c4a9c9\n",
    "\n",
    "---------------------------------------------------------\n",
    "\n",
    "As we will see below, the top 10 expenses for 2015 and 2016 (in the Food categories) are actually pizza orders made for Electronics Club. During this time, I often floated these expenses on my account to make sure the club could still hold meetings without waiting for chicken-and-egg cashflows like E-Council volunteering hours to cash out. This bankrolling culminated on March 04, 2016 for the second annual Makeathon when I did a grocery trip to Costco for $683. The funds for this event were not fully liquid at the time of its launch.\n",
    "\n",
    "After the Makeathon, I was eventually repaid for my pizza and Costco purchases, but the reimbursements were so aggregated that it was hard to track which thing was being repaid. Thus, the data for this period was never adjusted.\n",
    "\n",
    "After graduated in May 2016, I went down to Dallas to work at TI for the summer before grad school. Grocery bills were high, as was eating out since I had a larger income level. Upon returning to Ohio State and starting grad school, my free time and organization went to zero. Eating out peaked again around November 2016 as Karun and I finished up a 50 hour paper writing session right before Thanksgiving break. \n",
    "\n",
    "The perhaps final anomaly is the dip in *all* food spending from April to June 2017. I'm not sure what happened here. Perhaps the data is mislabeled during this period or I was in a communal grocery situation with the Dublin House guys."
   ]
  },
  {
   "cell_type": "code",
   "execution_count": 29,
   "metadata": {},
   "outputs": [],
   "source": [
    "# Create a Spending Difference signal\n",
    "diff = groceries['amount'] - eating_out['amount']"
   ]
  },
  {
   "cell_type": "code",
   "execution_count": 30,
   "metadata": {},
   "outputs": [
    {
     "data": {
      "image/png": "[encoded data removed]",
      "text/plain": [
       "<Figure size 1200x400 with 1 Axes>"
      ]
     },
     "metadata": {},
     "output_type": "display_data"
    }
   ],
   "source": [
    "import numpy as np\n",
    "col = np.where(diff >=0, 'g', 'r')\n",
    "\n",
    "fig=plt.figure(figsize=(15, 5), dpi= 80, facecolor='w', edgecolor='k')\n",
    "# add major ticks and x-labels\n",
    "for i in range(0,len(major_ticks_list)):\n",
    "    plt.axvline(x=major_ticks_list[i], ymin=0, ymax=1, c='gray')\n",
    "plt.xticks(eating_out['year-month'],eating_out['year-month'].apply(dateaxis_labelmaker), rotation=90)\n",
    "\n",
    "# janky stem plot\n",
    "plt.scatter(groceries['year-month'], diff, c=col, label='Difference')\n",
    "plt.vlines(groceries['year-month'], ymin=0, ymax=diff, color=col)\n",
    "\n",
    "# describe the plot\n",
    "plt.title('Groceries to Eating Out Difference')\n",
    "plt.xlabel('Time (months)')\n",
    "plt.ylabel('Cost ($ / month)')\n",
    "plt.xlim([eating_out['year-month'].min(), eating_out['year-month'].max()])\n",
    "plt.grid()\n",
    "plt.show()"
   ]
  },
  {
   "cell_type": "markdown",
   "metadata": {},
   "source": [
    "**Note**: Thug Kitchen Ordered on May 10, 2018\n",
    "\n",
    "**Note**: Started Dating Amanda on June 24, 2017"
   ]
  },
  {
   "cell_type": "code",
   "execution_count": 31,
   "metadata": {},
   "outputs": [
    {
     "data": {
      "text/html": [
       "<div>\n",
       "<style scoped>\n",
       "    .dataframe tbody tr th:only-of-type {\n",
       "        vertical-align: middle;\n",
       "    }\n",
       "\n",
       "    .dataframe tbody tr th {\n",
       "        vertical-align: top;\n",
       "    }\n",
       "\n",
       "    .dataframe thead th {\n",
       "        text-align: right;\n",
       "    }\n",
       "</style>\n",
       "<table border=\"1\" class=\"dataframe\">\n",
       "  <thead>\n",
       "    <tr style=\"text-align: right;\">\n",
       "      <th></th>\n",
       "      <th>description</th>\n",
       "      <th>amount</th>\n",
       "      <th>category</th>\n",
       "      <th>year-month</th>\n",
       "    </tr>\n",
       "    <tr>\n",
       "      <th>date</th>\n",
       "      <th></th>\n",
       "      <th></th>\n",
       "      <th></th>\n",
       "      <th></th>\n",
       "    </tr>\n",
       "  </thead>\n",
       "  <tbody>\n",
       "    <tr>\n",
       "      <th>2016-03-04</th>\n",
       "      <td>Costco</td>\n",
       "      <td>684.32</td>\n",
       "      <td>Groceries</td>\n",
       "      <td>2016-03</td>\n",
       "    </tr>\n",
       "    <tr>\n",
       "      <th>2016-05-16</th>\n",
       "      <td>Wal-Mart</td>\n",
       "      <td>213.28</td>\n",
       "      <td>Groceries</td>\n",
       "      <td>2016-05</td>\n",
       "    </tr>\n",
       "    <tr>\n",
       "      <th>2016-09-02</th>\n",
       "      <td>Domino's Pizza</td>\n",
       "      <td>167.98</td>\n",
       "      <td>Fast Food</td>\n",
       "      <td>2016-09</td>\n",
       "    </tr>\n",
       "    <tr>\n",
       "      <th>2016-01-29</th>\n",
       "      <td>Domino's Pizza</td>\n",
       "      <td>126.99</td>\n",
       "      <td>Fast Food</td>\n",
       "      <td>2016-01</td>\n",
       "    </tr>\n",
       "    <tr>\n",
       "      <th>2016-09-14</th>\n",
       "      <td>Domino's Pizza</td>\n",
       "      <td>119.91</td>\n",
       "      <td>Fast Food</td>\n",
       "      <td>2016-09</td>\n",
       "    </tr>\n",
       "    <tr>\n",
       "      <th>2016-02-12</th>\n",
       "      <td>Domino's Pizza</td>\n",
       "      <td>116.99</td>\n",
       "      <td>Fast Food</td>\n",
       "      <td>2016-02</td>\n",
       "    </tr>\n",
       "    <tr>\n",
       "      <th>2016-04-08</th>\n",
       "      <td>Domino's Pizza</td>\n",
       "      <td>112.99</td>\n",
       "      <td>Fast Food</td>\n",
       "      <td>2016-04</td>\n",
       "    </tr>\n",
       "    <tr>\n",
       "      <th>2016-04-15</th>\n",
       "      <td>Domino's Pizza</td>\n",
       "      <td>110.99</td>\n",
       "      <td>Fast Food</td>\n",
       "      <td>2016-04</td>\n",
       "    </tr>\n",
       "    <tr>\n",
       "      <th>2016-10-21</th>\n",
       "      <td>Domino's Pizza</td>\n",
       "      <td>106.49</td>\n",
       "      <td>Fast Food</td>\n",
       "      <td>2016-10</td>\n",
       "    </tr>\n",
       "    <tr>\n",
       "      <th>2016-09-12</th>\n",
       "      <td>Wal-Mart</td>\n",
       "      <td>101.98</td>\n",
       "      <td>Groceries</td>\n",
       "      <td>2016-09</td>\n",
       "    </tr>\n",
       "  </tbody>\n",
       "</table>\n",
       "</div>"
      ],
      "text/plain": [
       "               description  amount   category year-month\n",
       "date                                                    \n",
       "2016-03-04          Costco  684.32  Groceries    2016-03\n",
       "2016-05-16        Wal-Mart  213.28  Groceries    2016-05\n",
       "2016-09-02  Domino's Pizza  167.98  Fast Food    2016-09\n",
       "2016-01-29  Domino's Pizza  126.99  Fast Food    2016-01\n",
       "2016-09-14  Domino's Pizza  119.91  Fast Food    2016-09\n",
       "2016-02-12  Domino's Pizza  116.99  Fast Food    2016-02\n",
       "2016-04-08  Domino's Pizza  112.99  Fast Food    2016-04\n",
       "2016-04-15  Domino's Pizza  110.99  Fast Food    2016-04\n",
       "2016-10-21  Domino's Pizza  106.49  Fast Food    2016-10\n",
       "2016-09-12        Wal-Mart  101.98  Groceries    2016-09"
      ]
     },
     "execution_count": 31,
     "metadata": {},
     "output_type": "execute_result"
    }
   ],
   "source": [
    "food_df.loc['2016'].nlargest(10, 'amount')"
   ]
  },
  {
   "cell_type": "markdown",
   "metadata": {},
   "source": [
    "**Note**: The period of heavy fast food spending is from bankrolling Electronics Club temporarily"
   ]
  },
  {
   "cell_type": "code",
   "execution_count": 32,
   "metadata": {},
   "outputs": [
    {
     "data": {
      "text/html": [
       "<div>\n",
       "<style scoped>\n",
       "    .dataframe tbody tr th:only-of-type {\n",
       "        vertical-align: middle;\n",
       "    }\n",
       "\n",
       "    .dataframe tbody tr th {\n",
       "        vertical-align: top;\n",
       "    }\n",
       "\n",
       "    .dataframe thead th {\n",
       "        text-align: right;\n",
       "    }\n",
       "</style>\n",
       "<table border=\"1\" class=\"dataframe\">\n",
       "  <thead>\n",
       "    <tr style=\"text-align: right;\">\n",
       "      <th></th>\n",
       "      <th>description</th>\n",
       "      <th>amount</th>\n",
       "      <th>category</th>\n",
       "      <th>year-month</th>\n",
       "    </tr>\n",
       "    <tr>\n",
       "      <th>date</th>\n",
       "      <th></th>\n",
       "      <th></th>\n",
       "      <th></th>\n",
       "      <th></th>\n",
       "    </tr>\n",
       "  </thead>\n",
       "  <tbody>\n",
       "    <tr>\n",
       "      <th>2015-08-28</th>\n",
       "      <td>Adriatico Pizz</td>\n",
       "      <td>325.78</td>\n",
       "      <td>Restaurants</td>\n",
       "      <td>2015-08</td>\n",
       "    </tr>\n",
       "    <tr>\n",
       "      <th>2015-05-18</th>\n",
       "      <td>Hy-Vee</td>\n",
       "      <td>156.82</td>\n",
       "      <td>Groceries</td>\n",
       "      <td>2015-05</td>\n",
       "    </tr>\n",
       "    <tr>\n",
       "      <th>2015-06-03</th>\n",
       "      <td>Hy-Vee</td>\n",
       "      <td>131.86</td>\n",
       "      <td>Groceries</td>\n",
       "      <td>2015-06</td>\n",
       "    </tr>\n",
       "    <tr>\n",
       "      <th>2015-10-09</th>\n",
       "      <td>Pizza Joint</td>\n",
       "      <td>120.00</td>\n",
       "      <td>Restaurants</td>\n",
       "      <td>2015-10</td>\n",
       "    </tr>\n",
       "    <tr>\n",
       "      <th>2015-12-04</th>\n",
       "      <td>Domino's Pizza</td>\n",
       "      <td>115.06</td>\n",
       "      <td>Fast Food</td>\n",
       "      <td>2015-12</td>\n",
       "    </tr>\n",
       "    <tr>\n",
       "      <th>2015-11-06</th>\n",
       "      <td>Domino's Pizza</td>\n",
       "      <td>115.00</td>\n",
       "      <td>Fast Food</td>\n",
       "      <td>2015-11</td>\n",
       "    </tr>\n",
       "    <tr>\n",
       "      <th>2015-11-20</th>\n",
       "      <td>Domino's Pizza</td>\n",
       "      <td>91.99</td>\n",
       "      <td>Fast Food</td>\n",
       "      <td>2015-11</td>\n",
       "    </tr>\n",
       "    <tr>\n",
       "      <th>2015-07-06</th>\n",
       "      <td>Bravo Jordan</td>\n",
       "      <td>90.00</td>\n",
       "      <td>Restaurants</td>\n",
       "      <td>2015-07</td>\n",
       "    </tr>\n",
       "    <tr>\n",
       "      <th>2015-11-19</th>\n",
       "      <td>Domino's Pizza</td>\n",
       "      <td>86.99</td>\n",
       "      <td>Fast Food</td>\n",
       "      <td>2015-11</td>\n",
       "    </tr>\n",
       "    <tr>\n",
       "      <th>2015-01-26</th>\n",
       "      <td>Wal-Mart</td>\n",
       "      <td>83.86</td>\n",
       "      <td>Groceries</td>\n",
       "      <td>2015-01</td>\n",
       "    </tr>\n",
       "  </tbody>\n",
       "</table>\n",
       "</div>"
      ],
      "text/plain": [
       "               description  amount     category year-month\n",
       "date                                                      \n",
       "2015-08-28  Adriatico Pizz  325.78  Restaurants    2015-08\n",
       "2015-05-18          Hy-Vee  156.82    Groceries    2015-05\n",
       "2015-06-03          Hy-Vee  131.86    Groceries    2015-06\n",
       "2015-10-09     Pizza Joint  120.00  Restaurants    2015-10\n",
       "2015-12-04  Domino's Pizza  115.06    Fast Food    2015-12\n",
       "2015-11-06  Domino's Pizza  115.00    Fast Food    2015-11\n",
       "2015-11-20  Domino's Pizza   91.99    Fast Food    2015-11\n",
       "2015-07-06    Bravo Jordan   90.00  Restaurants    2015-07\n",
       "2015-11-19  Domino's Pizza   86.99    Fast Food    2015-11\n",
       "2015-01-26        Wal-Mart   83.86    Groceries    2015-01"
      ]
     },
     "execution_count": 32,
     "metadata": {},
     "output_type": "execute_result"
    }
   ],
   "source": [
    "food_df.loc['2015'].nlargest(10, 'amount')"
   ]
  },
  {
   "cell_type": "markdown",
   "metadata": {},
   "source": [
    "**Note**: The same was true for 2015. The top expense was the 1st meeting of E club after involvement fair"
   ]
  },
  {
   "cell_type": "markdown",
   "metadata": {},
   "source": [
    "## 3b. Is there a Monthly trend ?"
   ]
  },
  {
   "cell_type": "code",
   "execution_count": 33,
   "metadata": {},
   "outputs": [],
   "source": [
    "food_spending2 = food_spending.copy()\n",
    "# add a month_name column to aggregate on later\n",
    "food_spending2['month_name'] = food_spending2['year-month'].apply(lambda x: x.month_name())\n",
    "# set 'year-month' as an index so that it is sliceable later\n",
    "food_spending2.set_index('year-month', inplace=True)"
   ]
  },
  {
   "cell_type": "code",
   "execution_count": 34,
   "metadata": {},
   "outputs": [],
   "source": [
    "# Create the time filter\n",
    "filt = (food_spending2.index < '2015-08-01') | (food_spending2.index >= '2016-05-01')\n",
    "food_spending2 = food_spending2.loc[filt,:]"
   ]
  },
  {
   "cell_type": "code",
   "execution_count": 35,
   "metadata": {},
   "outputs": [
    {
     "data": {
      "text/html": [
       "<div>\n",
       "<style scoped>\n",
       "    .dataframe tbody tr th:only-of-type {\n",
       "        vertical-align: middle;\n",
       "    }\n",
       "\n",
       "    .dataframe tbody tr th {\n",
       "        vertical-align: top;\n",
       "    }\n",
       "\n",
       "    .dataframe thead th {\n",
       "        text-align: right;\n",
       "    }\n",
       "</style>\n",
       "<table border=\"1\" class=\"dataframe\">\n",
       "  <thead>\n",
       "    <tr style=\"text-align: right;\">\n",
       "      <th></th>\n",
       "      <th>month_name</th>\n",
       "      <th>category</th>\n",
       "      <th>amount</th>\n",
       "    </tr>\n",
       "  </thead>\n",
       "  <tbody>\n",
       "    <tr>\n",
       "      <th>0</th>\n",
       "      <td>April</td>\n",
       "      <td>Eating Out</td>\n",
       "      <td>166.725714</td>\n",
       "    </tr>\n",
       "    <tr>\n",
       "      <th>1</th>\n",
       "      <td>April</td>\n",
       "      <td>Groceries</td>\n",
       "      <td>187.427143</td>\n",
       "    </tr>\n",
       "    <tr>\n",
       "      <th>2</th>\n",
       "      <td>August</td>\n",
       "      <td>Eating Out</td>\n",
       "      <td>304.000000</td>\n",
       "    </tr>\n",
       "    <tr>\n",
       "      <th>3</th>\n",
       "      <td>August</td>\n",
       "      <td>Groceries</td>\n",
       "      <td>253.608333</td>\n",
       "    </tr>\n",
       "    <tr>\n",
       "      <th>4</th>\n",
       "      <td>December</td>\n",
       "      <td>Eating Out</td>\n",
       "      <td>211.550000</td>\n",
       "    </tr>\n",
       "  </tbody>\n",
       "</table>\n",
       "</div>"
      ],
      "text/plain": [
       "  month_name    category      amount\n",
       "0      April  Eating Out  166.725714\n",
       "1      April   Groceries  187.427143\n",
       "2     August  Eating Out  304.000000\n",
       "3     August   Groceries  253.608333\n",
       "4   December  Eating Out  211.550000"
      ]
     },
     "execution_count": 35,
     "metadata": {},
     "output_type": "execute_result"
    }
   ],
   "source": [
    "spend_by_month = food_spending2.groupby(['month_name', 'category'], as_index=False).mean()\n",
    "spend_by_month.head(5)"
   ]
  },
  {
   "cell_type": "code",
   "execution_count": 36,
   "metadata": {},
   "outputs": [],
   "source": [
    "# Get the sorting of the months to be in sequential order, not alphabetical\n",
    "from pandas.api.types import CategoricalDtype\n",
    "cat_type = CategoricalDtype(categories=['January','February','March','April','May','June',\n",
    "                                   'July','August','September','October','November','December'],\n",
    "                            ordered=True)\n",
    "spend_by_month['month_name'] = spend_by_month['month_name'].astype(cat_type)\n",
    "spend_by_month = spend_by_month.set_index('month_name').sort_index()"
   ]
  },
  {
   "cell_type": "code",
   "execution_count": 37,
   "metadata": {},
   "outputs": [
    {
     "data": {
      "text/html": [
       "<div>\n",
       "<style scoped>\n",
       "    .dataframe tbody tr th:only-of-type {\n",
       "        vertical-align: middle;\n",
       "    }\n",
       "\n",
       "    .dataframe tbody tr th {\n",
       "        vertical-align: top;\n",
       "    }\n",
       "\n",
       "    .dataframe thead th {\n",
       "        text-align: right;\n",
       "    }\n",
       "</style>\n",
       "<table border=\"1\" class=\"dataframe\">\n",
       "  <thead>\n",
       "    <tr style=\"text-align: right;\">\n",
       "      <th></th>\n",
       "      <th>category</th>\n",
       "      <th>amount</th>\n",
       "    </tr>\n",
       "    <tr>\n",
       "      <th>month_name</th>\n",
       "      <th></th>\n",
       "      <th></th>\n",
       "    </tr>\n",
       "  </thead>\n",
       "  <tbody>\n",
       "    <tr>\n",
       "      <th>January</th>\n",
       "      <td>Eating Out</td>\n",
       "      <td>259.831667</td>\n",
       "    </tr>\n",
       "    <tr>\n",
       "      <th>January</th>\n",
       "      <td>Groceries</td>\n",
       "      <td>294.473333</td>\n",
       "    </tr>\n",
       "    <tr>\n",
       "      <th>February</th>\n",
       "      <td>Eating Out</td>\n",
       "      <td>216.698333</td>\n",
       "    </tr>\n",
       "    <tr>\n",
       "      <th>February</th>\n",
       "      <td>Groceries</td>\n",
       "      <td>198.806667</td>\n",
       "    </tr>\n",
       "    <tr>\n",
       "      <th>March</th>\n",
       "      <td>Groceries</td>\n",
       "      <td>319.296667</td>\n",
       "    </tr>\n",
       "  </tbody>\n",
       "</table>\n",
       "</div>"
      ],
      "text/plain": [
       "              category      amount\n",
       "month_name                        \n",
       "January     Eating Out  259.831667\n",
       "January      Groceries  294.473333\n",
       "February    Eating Out  216.698333\n",
       "February     Groceries  198.806667\n",
       "March        Groceries  319.296667"
      ]
     },
     "execution_count": 37,
     "metadata": {},
     "output_type": "execute_result"
    }
   ],
   "source": [
    "spend_by_month.head(5)"
   ]
  },
  {
   "cell_type": "code",
   "execution_count": 38,
   "metadata": {},
   "outputs": [],
   "source": [
    "groceries_filt = (spend_by_month['category'] == 'Groceries')\n",
    "groceries = spend_by_month.loc[groceries_filt,:]"
   ]
  },
  {
   "cell_type": "code",
   "execution_count": 39,
   "metadata": {},
   "outputs": [],
   "source": [
    "eatout_filt = (spend_by_month['category'] == 'Eating Out')\n",
    "eatout = spend_by_month.loc[eatout_filt,:]"
   ]
  },
  {
   "cell_type": "code",
   "execution_count": 40,
   "metadata": {},
   "outputs": [
    {
     "data": {
      "image/png": "[encoded data removed]",
      "text/plain": [
       "<Figure size 640x400 with 1 Axes>"
      ]
     },
     "metadata": {},
     "output_type": "display_data"
    }
   ],
   "source": [
    "fig=plt.figure(figsize=(8, 5), dpi= 80, facecolor='w', edgecolor='k')\n",
    "plt.plot(groceries.index, groceries['amount'], color='c', label='Groceries')\n",
    "plt.plot(eatout.index, eatout['amount'], color='m', label='Eating Out')\n",
    "\n",
    "locs, labels = plt.xticks()\n",
    "labels = eatout.index.categories.to_list()\n",
    "plt.xticks(locs, [x[0:3]+'.' for x in labels], rotation=0)\n",
    "\n",
    "# describe the plot\n",
    "plt.title('Average Food Spending from 2013 to Now *')\n",
    "plt.xlabel('Month of the Year')\n",
    "plt.ylabel('Average Cost ($)')\n",
    "plt.grid()\n",
    "plt.legend()\n",
    "plt.ylim([150, 350])\n",
    "plt.show()"
   ]
  },
  {
   "cell_type": "markdown",
   "metadata": {},
   "source": [
    "***Note: the August 2015 to April 2016 time period is discounted due to erroneous data**\n",
    "\n",
    "This time series graph is the clearest representation of the data"
   ]
  },
  {
   "cell_type": "markdown",
   "metadata": {},
   "source": [
    "## 3c. What does monthly trend look like without COVID Outlier?"
   ]
  },
  {
   "cell_type": "code",
   "execution_count": 41,
   "metadata": {},
   "outputs": [],
   "source": [
    "# Create the time filter\n",
    "filt = (food_spending2.index < '2015-08-01') | ((food_spending2.index >= '2016-05-01')&(food_spending2.index < '2020-03-01')) \n",
    "food_spending2 = food_spending2.loc[filt,:]"
   ]
  },
  {
   "cell_type": "code",
   "execution_count": 42,
   "metadata": {},
   "outputs": [
    {
     "data": {
      "text/html": [
       "<div>\n",
       "<style scoped>\n",
       "    .dataframe tbody tr th:only-of-type {\n",
       "        vertical-align: middle;\n",
       "    }\n",
       "\n",
       "    .dataframe tbody tr th {\n",
       "        vertical-align: top;\n",
       "    }\n",
       "\n",
       "    .dataframe thead th {\n",
       "        text-align: right;\n",
       "    }\n",
       "</style>\n",
       "<table border=\"1\" class=\"dataframe\">\n",
       "  <thead>\n",
       "    <tr style=\"text-align: right;\">\n",
       "      <th></th>\n",
       "      <th>month_name</th>\n",
       "      <th>category</th>\n",
       "      <th>amount</th>\n",
       "    </tr>\n",
       "  </thead>\n",
       "  <tbody>\n",
       "    <tr>\n",
       "      <th>0</th>\n",
       "      <td>April</td>\n",
       "      <td>Eating Out</td>\n",
       "      <td>194.513333</td>\n",
       "    </tr>\n",
       "    <tr>\n",
       "      <th>1</th>\n",
       "      <td>April</td>\n",
       "      <td>Groceries</td>\n",
       "      <td>192.390000</td>\n",
       "    </tr>\n",
       "    <tr>\n",
       "      <th>2</th>\n",
       "      <td>August</td>\n",
       "      <td>Eating Out</td>\n",
       "      <td>304.000000</td>\n",
       "    </tr>\n",
       "    <tr>\n",
       "      <th>3</th>\n",
       "      <td>August</td>\n",
       "      <td>Groceries</td>\n",
       "      <td>253.608333</td>\n",
       "    </tr>\n",
       "    <tr>\n",
       "      <th>4</th>\n",
       "      <td>December</td>\n",
       "      <td>Eating Out</td>\n",
       "      <td>211.550000</td>\n",
       "    </tr>\n",
       "  </tbody>\n",
       "</table>\n",
       "</div>"
      ],
      "text/plain": [
       "  month_name    category      amount\n",
       "0      April  Eating Out  194.513333\n",
       "1      April   Groceries  192.390000\n",
       "2     August  Eating Out  304.000000\n",
       "3     August   Groceries  253.608333\n",
       "4   December  Eating Out  211.550000"
      ]
     },
     "execution_count": 42,
     "metadata": {},
     "output_type": "execute_result"
    }
   ],
   "source": [
    "spend_by_month = food_spending2.groupby(['month_name', 'category'], as_index=False).mean()\n",
    "spend_by_month.head(5)"
   ]
  },
  {
   "cell_type": "code",
   "execution_count": 43,
   "metadata": {},
   "outputs": [],
   "source": [
    "# Get the sorting of the months to be in sequential order, not alphabetical\n",
    "from pandas.api.types import CategoricalDtype\n",
    "cat_type = CategoricalDtype(categories=['January','February','March','April','May','June',\n",
    "                                   'July','August','September','October','November','December'],\n",
    "                            ordered=True)\n",
    "spend_by_month['month_name'] = spend_by_month['month_name'].astype(cat_type)\n",
    "spend_by_month = spend_by_month.set_index('month_name').sort_index()"
   ]
  },
  {
   "cell_type": "code",
   "execution_count": 44,
   "metadata": {},
   "outputs": [],
   "source": [
    "groceries_filt = (spend_by_month['category'] == 'Groceries')\n",
    "groceries = spend_by_month.loc[groceries_filt,:]"
   ]
  },
  {
   "cell_type": "code",
   "execution_count": 45,
   "metadata": {},
   "outputs": [],
   "source": [
    "eatout_filt = (spend_by_month['category'] == 'Eating Out')\n",
    "eatout = spend_by_month.loc[eatout_filt,:]"
   ]
  },
  {
   "cell_type": "code",
   "execution_count": 46,
   "metadata": {},
   "outputs": [
    {
     "data": {
      "image/png": "[encoded data removed]",
      "text/plain": [
       "<Figure size 640x400 with 1 Axes>"
      ]
     },
     "metadata": {},
     "output_type": "display_data"
    }
   ],
   "source": [
    "fig=plt.figure(figsize=(8, 5), dpi= 80, facecolor='w', edgecolor='k')\n",
    "plt.plot(groceries.index, groceries['amount'], color='c', label='Groceries')\n",
    "plt.plot(eatout.index, eatout['amount'], color='m', label='Eating Out')\n",
    "\n",
    "locs, labels = plt.xticks()\n",
    "labels = eatout.index.categories.to_list()\n",
    "plt.xticks(locs, [x[0:3]+'.' for x in labels], rotation=0)\n",
    "\n",
    "# describe the plot\n",
    "plt.title('Average Food Spending from 2013 to Feb 2020 *')\n",
    "plt.xlabel('Month of the Year')\n",
    "plt.ylabel('Average Cost ($)')\n",
    "plt.grid()\n",
    "plt.legend()\n",
    "plt.ylim([150, 350])\n",
    "plt.show()"
   ]
  },
  {
   "cell_type": "markdown",
   "metadata": {},
   "source": [
    "***Note: the August 2015 to April 2016 time period is discounted due to erroneous data**\n",
    "\n",
    "**Eating Out** -- There is a clear seasonal trend in the Eating Out time series. Over the period of a year, Eating Out spending varies sinusoidally with an amplitude of roughly \\\\$75 and an average of \\\\$225 spent each month on Eating Out.\n",
    "\n",
    "**Groceries** -- Even without COVID's March Grocery shopping spree, the March average spending is higher that neighboring months. Despite that, a weaker cosinudoidal trend can be seen with Groceries spending. The spending has an average of \\\\$240 with an amplitude of roughly \\\\$40.\n",
    "\n",
    "The trends noted for Eating Out and Groceries are linked by a few common causes. \n",
    "1. Most of the data is from years in college where I completed a summer internship. These internships would typically start in May and go until August. My eating out spending would ramp up with my income and then steadily coast down again till next May as my finite cash pile dwindled. Grocery spending typically rose when Eating Out fell since groceries were a more cost efficient way to feed myself.\n",
    "2. Eating Out peaks typically corresponded to the start of a college semester (Aug. & Jan.) as well as heavy midterm season (Oct. & Mar.)"
   ]
  },
  {
   "cell_type": "code",
   "execution_count": null,
   "metadata": {},
   "outputs": [],
   "source": []
  }
 ],
 "metadata": {
  "kernelspec": {
   "display_name": "Python 3",
   "language": "python",
   "name": "python3"
  },
  "language_info": {
   "codemirror_mode": {
    "name": "ipython",
    "version": 3
   },
   "file_extension": ".py",
   "mimetype": "text/x-python",
   "name": "python",
   "nbconvert_exporter": "python",
   "pygments_lexer": "ipython3",
   "version": "3.7.4"
  }
 },
 "nbformat": 4,
 "nbformat_minor": 4
}
